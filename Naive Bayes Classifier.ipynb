{
 "cells": [
  {
   "cell_type": "code",
   "execution_count": 54,
   "metadata": {
    "collapsed": true
   },
   "outputs": [],
   "source": [
    "# Setting up imports\n",
    "import random \n",
    "import numpy as np\n",
    "from sklearn.naive_bayes import GaussianNB\n",
    "import warnings\n",
    "warnings.filterwarnings(\"ignore\")\n",
    "import matplotlib \n",
    "matplotlib.use('agg')\n",
    "import matplotlib.pyplot as plt\n",
    "import pylab as pl\n",
    "import base64\n",
    "import json\n",
    "import subprocess "
   ]
  },
  {
   "cell_type": "code",
   "execution_count": 38,
   "metadata": {
    "collapsed": false
   },
   "outputs": [],
   "source": [
    "## Making the Toy Data Set\n",
    "n_points = 1000\n",
    "random.seed(42)\n",
    "grade = [random.random() for ii in range(0,n_points)] \n",
    "bumpy = [random.random() for ii in range(0,n_points)]\n",
    "error = [random.random() for ii in range(0,n_points)]\n",
    "\n",
    "## for the first classification case we are using naive baye's classification \n",
    "## two regions are decided based on the following formula\n",
    "\n",
    "y = [round(grade[ii]*bumpy[ii]+0.3+0.1*error[ii]) for ii in range(0,n_points)]\n",
    "# since the random.random assigns floating points numbers, y is assigned values of 0 and 1, after rounding off\n",
    "\n",
    "for ii in range(0, len(y)):\n",
    "    if grade[ii]>0.8 or bumpy[ii]>0.8:\n",
    "        y[ii] = 1.0\n",
    "        \n",
    "# for extremely high values of bumpiness and grade, y is labelled as 1.0"
   ]
  },
  {
   "cell_type": "code",
   "execution_count": 39,
   "metadata": {
    "collapsed": false
   },
   "outputs": [],
   "source": [
    "#split into test/train data\n",
    "## for feature vector we contrust X vector \n",
    "## for labels y vector from last sniplet will be used\n",
    "\n",
    "x=[[gg,ss] for gg,ss in zip(grade,bumpy)]\n",
    "split = int(0.75*n_points)\n",
    "x_test= x[0:split]\n",
    "y_test= y[0:split]\n",
    "x_train= x[split:]\n",
    "y_train= y[split:]"
   ]
  },
  {
   "cell_type": "code",
   "execution_count": 40,
   "metadata": {
    "collapsed": false
   },
   "outputs": [
    {
     "data": {
      "text/plain": [
       "GaussianNB(priors=None)"
      ]
     },
     "execution_count": 40,
     "metadata": {},
     "output_type": "execute_result"
    }
   ],
   "source": [
    "# Setting up the naive-bayes classifer\n",
    "# constructing the classifier\n",
    "# calling the fit function on training data\n",
    "# calling the predict function on training data\n",
    "\n",
    "clf=GaussianNB()\n",
    "clf.fit(x_test,y_test)\n",
    " "
   ]
  },
  {
   "cell_type": "code",
   "execution_count": 65,
   "metadata": {
    "collapsed": false
   },
   "outputs": [
    {
     "data": {
      "text/plain": [
       "<matplotlib.text.Text at 0x7fabef9059b0>"
      ]
     },
     "execution_count": 65,
     "metadata": {},
     "output_type": "execute_result"
    }
   ],
   "source": [
    "# visualizing the boundary\n",
    "x_min = 0.0\n",
    "x_max = 1.0\n",
    "y_min = 0.0\n",
    "y_max = 1.0\n",
    "h = .01  # step size in the mesh\n",
    "xx, yy = np.meshgrid(np.arange(x_min, x_max, h), np.arange(y_min, y_max, h))\n",
    "# c_ slices the object concatinted along second axis. \n",
    "# predict function takes only one argument as it takes feature vector only. \n",
    "Z = clf.predict(np.c_[xx.ravel(), yy.ravel()])\n",
    "# Put the result into a color plot\n",
    "Z = Z.reshape(xx.shape)\n",
    "plt.xlim(xx.min(), xx.max())\n",
    "plt.ylim(yy.min(), yy.max())\n",
    "plt.pcolormesh(xx, yy, Z, cmap=pl.cm.seismic)\n",
    "# Plot also the test points\n",
    "grade_sig = [x_test[ii][0] for ii in range(0, len(x_test)) if y_test[ii]==0]\n",
    "bumpy_sig = [x_test[ii][1] for ii in range(0, len(x_test)) if y_test[ii]==0]\n",
    "grade_bkg = [x_test[ii][0] for ii in range(0, len(x_test)) if y_test[ii]==1]\n",
    "bumpy_bkg = [x_test[ii][1] for ii in range(0, len(x_test)) if y_test[ii]==1]\n",
    "plt.scatter(grade_sig, bumpy_sig, color = \"b\", label=\"fast\")\n",
    "plt.scatter(grade_bkg, bumpy_bkg, color = \"r\", label=\"slow\")\n",
    "plt.legend()\n",
    "plt.xlabel(\"bumpiness\")\n",
    "plt.ylabel(\"grade\")\n",
    " \n",
    " "
   ]
  },
  {
   "cell_type": "code",
   "execution_count": 61,
   "metadata": {
    "collapsed": false
   },
   "outputs": [],
   "source": [
    " "
   ]
  },
  {
   "cell_type": "code",
   "execution_count": null,
   "metadata": {
    "collapsed": false
   },
   "outputs": [],
   "source": [
    " "
   ]
  },
  {
   "cell_type": "code",
   "execution_count": null,
   "metadata": {
    "collapsed": true
   },
   "outputs": [],
   "source": []
  }
 ],
 "metadata": {
  "kernelspec": {
   "display_name": "Python 3",
   "language": "python",
   "name": "python3"
  },
  "language_info": {
   "codemirror_mode": {
    "name": "ipython",
    "version": 3
   },
   "file_extension": ".py",
   "mimetype": "text/x-python",
   "name": "python",
   "nbconvert_exporter": "python",
   "pygments_lexer": "ipython3",
   "version": "3.5.2"
  },
  "widgets": {
   "state": {},
   "version": "1.1.2"
  }
 },
 "nbformat": 4,
 "nbformat_minor": 0
}
