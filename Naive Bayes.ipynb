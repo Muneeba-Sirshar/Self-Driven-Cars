{
 "cells": [
  {
   "cell_type": "code",
   "execution_count": 2,
   "metadata": {
    "collapsed": true
   },
   "outputs": [],
   "source": [
    "# Setting up imports\n",
    "import random as rn\n",
    "import numpy as np\n"
   ]
  },
  {
   "cell_type": "code",
   "execution_count": 20,
   "metadata": {
    "collapsed": false
   },
   "outputs": [],
   "source": [
    "## Making the Toy Data Set\n",
    "n_points = 1000\n",
    "random.seed(42)\n",
    "grade = [random.random() for ii in range(0,n_points)] \n",
    "bumpy = [random.random() for ii in range(0,n_points)]\n",
    "error = [random.random() for ii in range(0,n_points)]\n",
    "\n",
    "## for the first classification case we are using naive baye's classification \n",
    "## two regions are decided based on the following formula\n",
    "\n",
    "y = [round(grade[ii]*bumpy[ii]+0.3+0.1*error[ii]) for ii in range(0,n_points)]\n",
    "# since the random.random assigns floating points numbers, y is assigned values of 0 and 1, after rounding off\n",
    "\n",
    "for ii in range(0, len(y)):\n",
    "    if grade[ii]>0.8 or bumpy[ii]>0.8:\n",
    "        y[ii] = 1.0\n",
    "        \n",
    "# for extremely high values of bumpiness and grade, y is labelled as 1.0"
   ]
  },
  {
   "cell_type": "code",
   "execution_count": 22,
   "metadata": {
    "collapsed": false
   },
   "outputs": [],
   "source": [
    "#split into test/train data\n",
    "## for feature vector we contrust X vector \n",
    "## for labels y vector from last sniplet will be used\n",
    "\n",
    "x=[[gg,ss] for gg,ss in zip(grade,bumpy)]\n",
    "split = int(0.75*n_points)\n",
    "x_test= x[0:split]\n",
    "y_test= y[0:split]\n",
    "x_train= x[split:]\n",
    "y_train= y[split:]"
   ]
  },
  {
   "cell_type": "code",
   "execution_count": null,
   "metadata": {
    "collapsed": true
   },
   "outputs": [],
   "source": []
  }
 ],
 "metadata": {
  "kernelspec": {
   "display_name": "Python 3",
   "language": "python",
   "name": "python3"
  },
  "language_info": {
   "codemirror_mode": {
    "name": "ipython",
    "version": 3
   },
   "file_extension": ".py",
   "mimetype": "text/x-python",
   "name": "python",
   "nbconvert_exporter": "python",
   "pygments_lexer": "ipython3",
   "version": "3.5.2"
  },
  "widgets": {
   "state": {},
   "version": "1.1.2"
  }
 },
 "nbformat": 4,
 "nbformat_minor": 0
}
