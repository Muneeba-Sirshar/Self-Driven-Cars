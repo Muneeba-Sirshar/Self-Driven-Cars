{
 "cells": [
  {
   "cell_type": "markdown",
   "metadata": {},
   "source": [
    "# Tutorial - SoftLayer Object Storage\n",
    "This notebook shows how to connect to [SoftLayer Object Storage](http://sldn.softlayer.com/reference/objectstorageapi), and how to explore and retrieve data from an object store.\n",
    "\n",
    "This notebook makes use of the [SoftLayer Object Storage Python Client](https://github.com/softlayer/softlayer-object-storage-python) package.  You must install this package using the `pip` package installer as shown in the following code cell:\n",
    "\n",
    "<div class=\"alert alert-block alert-info\" style=\"margin-top: 20px\">**Note:** You only need to install this package once.  It will persist in your workbench.</div>"
   ]
  },
  {
   "cell_type": "code",
   "execution_count": null,
   "metadata": {
    "collapsed": false
   },
   "outputs": [],
   "source": [
    "!pip install softlayer-object-storage"
   ]
  },
  {
   "cell_type": "markdown",
   "metadata": {},
   "source": [
    "## Import SoftLayer Object Storage Credentials File"
   ]
  },
  {
   "cell_type": "markdown",
   "metadata": {},
   "source": [
    "You must provide credentials when connecting to SoftLayer Object Storage.  Credentials have been made available for this tutorial in a [JSON](http://json.org/) file.  **[Click here to import the credentials file](/tutorials/eurex/sl_object_store_credentials.json)** into your workbench.\n",
    "\n",
    "<div class=\"alert alert-block alert-info\" style=\"margin-top: 20px\">**Note:** You only need to import the credentials file once.  Once you import the credentials file into your workbench, you can re-use the file from other notebooks to connect to the object store.</div>"
   ]
  },
  {
   "cell_type": "markdown",
   "metadata": {},
   "source": [
    "## Connect to SoftLayer Object Storage"
   ]
  },
  {
   "cell_type": "markdown",
   "metadata": {},
   "source": [
    "Import the SoftLayer Object Storage Client module to interact with SoftLayer Object Storage. Also import the [JSON module](https://docs.python.org/2/library/json.html#) to get the credentials from the provided JSON file. Then create a connection to your object store using the credentials from the JSON file."
   ]
  },
  {
   "cell_type": "markdown",
   "metadata": {},
   "source": [
    "<div class=\"alert alert-block alert-info\">**Note:** You can re-use the code below in other notebooks to create a connection to the object store.</div>"
   ]
  },
  {
   "cell_type": "code",
   "execution_count": null,
   "metadata": {
    "collapsed": false
   },
   "outputs": [],
   "source": [
    "import object_storage\n",
    "import json\n",
    "\n",
    "with file('/resources/sl_object_store_credentials.json') as f:\n",
    "    sl_key = json.load(f)\n",
    "sl_storage = object_storage.get_client(sl_key['username'], sl_key['api_key'], sl_key['server'])"
   ]
  },
  {
   "cell_type": "markdown",
   "metadata": {},
   "source": [
    "## Explore the Object Store\n",
    "\n",
    "###Containers\n",
    "[Containers](http://sldn.softlayer.com/article/introduction-object-storage#Container) are the basic storage unit in an object store. They serve as the root location of your data objects. The object store can contain multiple containers.\n",
    "\n",
    "Get a listing of all the containers in your object store."
   ]
  },
  {
   "cell_type": "code",
   "execution_count": null,
   "metadata": {
    "collapsed": false
   },
   "outputs": [],
   "source": [
    "sl_storage.containers()"
   ]
  },
  {
   "cell_type": "markdown",
   "metadata": {},
   "source": [
    "The container of interest is called 'smarterfinancemarketplace'. Take a look at the container properties."
   ]
  },
  {
   "cell_type": "code",
   "execution_count": null,
   "metadata": {
    "collapsed": false
   },
   "outputs": [],
   "source": [
    "sl_storage['smarterfinancemarketplace'].properties"
   ]
  },
  {
   "cell_type": "markdown",
   "metadata": {},
   "source": [
    "### Search\n",
    "The [Search API](http://sldn.softlayer.com/article/introduction-object-storage#Search_Service_API) enables you to search by account, container or object.\n",
    "\n",
    "Run a search to retrieve all objects in your container."
   ]
  },
  {
   "cell_type": "code",
   "execution_count": null,
   "metadata": {
    "collapsed": false
   },
   "outputs": [],
   "source": [
    "sl_storage.search('smarterfinancemarketplace')"
   ]
  },
  {
   "cell_type": "markdown",
   "metadata": {},
   "source": [
    "Print the contents of one of the objects."
   ]
  },
  {
   "cell_type": "code",
   "execution_count": null,
   "metadata": {
    "collapsed": false
   },
   "outputs": [],
   "source": [
    "sl_storage['smarterfinancemarketplace']['eurex/tutorials/vstoxx/es.txt'].read()"
   ]
  },
  {
   "cell_type": "markdown",
   "metadata": {},
   "source": [
    "## Follow-on: Tutorial - Analyzing Historical VSTOXX Data\n",
    "A follow-on tutorial focuses on how to perform analysis in the IBM Knowledge Anyhow Workbench using data in SoftLayer Object Storage. Visit the [Welcome](/pages/welcome) page to download **Tutorial - Analyzing Historical VSTOXX Data**."
   ]
  }
 ],
 "metadata": {
  "kernelspec": {
   "display_name": "Python 2",
   "language": "python",
   "name": "python2"
  },
  "language_info": {
   "codemirror_mode": {
    "name": "ipython",
    "version": 2
   },
   "file_extension": ".py",
   "mimetype": "text/x-python",
   "name": "python",
   "nbconvert_exporter": "python",
   "pygments_lexer": "ipython2",
   "version": "2.7.12"
  },
  "widgets": {
   "state": {},
   "version": "1.1.2"
  }
 },
 "nbformat": 4,
 "nbformat_minor": 0
}
